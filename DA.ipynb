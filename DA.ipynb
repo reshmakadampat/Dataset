{
  "nbformat": 4,
  "nbformat_minor": 0,
  "metadata": {
    "colab": {
      "provenance": []
    },
    "kernelspec": {
      "name": "python3",
      "display_name": "Python 3"
    },
    "language_info": {
      "name": "python"
    }
  },
  "cells": [
    {
      "cell_type": "code",
      "execution_count": null,
      "metadata": {
        "id": "yekbkIDIFNxd"
      },
      "outputs": [],
      "source": [
        "import pandas as pd\n"
      ]
    },
    {
      "cell_type": "code",
      "source": [
        "url = '/content/train_and_test.csv'\n",
        "df = pd.read_csv(url)\n",
        "print(df.head())"
      ],
      "metadata": {
        "id": "y0yX2D8mJrUJ",
        "colab": {
          "base_uri": "https://localhost:8080/"
        },
        "outputId": "1d2d1791-0e73-4977-d118-e28f5a3e6317"
      },
      "execution_count": 31,
      "outputs": [
        {
          "output_type": "stream",
          "name": "stdout",
          "text": [
            "   Passengerid   Age     Fare  Sex  sibsp  zero  zero.1  zero.2  zero.3  \\\n",
            "0            1  22.0   7.2500    0      1     0       0       0       0   \n",
            "1            2  38.0  71.2833    1      1     0       0       0       0   \n",
            "2            3  26.0   7.9250    1      0     0       0       0       0   \n",
            "3            4  35.0  53.1000    1      1     0       0       0       0   \n",
            "4            5  35.0   8.0500    0      0     0       0       0       0   \n",
            "\n",
            "   zero.4  ...  zero.12  zero.13  zero.14  Pclass  zero.15  zero.16  Embarked  \\\n",
            "0       0  ...        0        0        0       3        0        0       2.0   \n",
            "1       0  ...        0        0        0       1        0        0       0.0   \n",
            "2       0  ...        0        0        0       3        0        0       2.0   \n",
            "3       0  ...        0        0        0       1        0        0       2.0   \n",
            "4       0  ...        0        0        0       3        0        0       2.0   \n",
            "\n",
            "   zero.17  zero.18  2urvived  \n",
            "0        0        0         0  \n",
            "1        0        0         1  \n",
            "2        0        0         1  \n",
            "3        0        0         1  \n",
            "4        0        0         0  \n",
            "\n",
            "[5 rows x 28 columns]\n"
          ]
        }
      ]
    },
    {
      "cell_type": "code",
      "source": [
        "print(df.describe())"
      ],
      "metadata": {
        "colab": {
          "base_uri": "https://localhost:8080/"
        },
        "id": "NbEHQRvSSkfk",
        "outputId": "31393b55-e78c-4b3e-9ad7-a2a821852751"
      },
      "execution_count": 32,
      "outputs": [
        {
          "output_type": "stream",
          "name": "stdout",
          "text": [
            "       Passengerid          Age         Fare          Sex        sibsp  \\\n",
            "count  1309.000000  1309.000000  1309.000000  1309.000000  1309.000000   \n",
            "mean    655.000000    29.503186    33.281086     0.355997     0.498854   \n",
            "std     378.020061    12.905241    51.741500     0.478997     1.041658   \n",
            "min       1.000000     0.170000     0.000000     0.000000     0.000000   \n",
            "25%     328.000000    22.000000     7.895800     0.000000     0.000000   \n",
            "50%     655.000000    28.000000    14.454200     0.000000     0.000000   \n",
            "75%     982.000000    35.000000    31.275000     1.000000     1.000000   \n",
            "max    1309.000000    80.000000   512.329200     1.000000     8.000000   \n",
            "\n",
            "         zero  zero.1  zero.2  zero.3  zero.4  ...  zero.12  zero.13  zero.14  \\\n",
            "count  1309.0  1309.0  1309.0  1309.0  1309.0  ...   1309.0   1309.0   1309.0   \n",
            "mean      0.0     0.0     0.0     0.0     0.0  ...      0.0      0.0      0.0   \n",
            "std       0.0     0.0     0.0     0.0     0.0  ...      0.0      0.0      0.0   \n",
            "min       0.0     0.0     0.0     0.0     0.0  ...      0.0      0.0      0.0   \n",
            "25%       0.0     0.0     0.0     0.0     0.0  ...      0.0      0.0      0.0   \n",
            "50%       0.0     0.0     0.0     0.0     0.0  ...      0.0      0.0      0.0   \n",
            "75%       0.0     0.0     0.0     0.0     0.0  ...      0.0      0.0      0.0   \n",
            "max       0.0     0.0     0.0     0.0     0.0  ...      0.0      0.0      0.0   \n",
            "\n",
            "            Pclass  zero.15  zero.16     Embarked  zero.17  zero.18  \\\n",
            "count  1309.000000   1309.0   1309.0  1307.000000   1309.0   1309.0   \n",
            "mean      2.294882      0.0      0.0     1.492731      0.0      0.0   \n",
            "std       0.837836      0.0      0.0     0.814626      0.0      0.0   \n",
            "min       1.000000      0.0      0.0     0.000000      0.0      0.0   \n",
            "25%       2.000000      0.0      0.0     1.000000      0.0      0.0   \n",
            "50%       3.000000      0.0      0.0     2.000000      0.0      0.0   \n",
            "75%       3.000000      0.0      0.0     2.000000      0.0      0.0   \n",
            "max       3.000000      0.0      0.0     2.000000      0.0      0.0   \n",
            "\n",
            "          2urvived  \n",
            "count  1309.000000  \n",
            "mean      0.261268  \n",
            "std       0.439494  \n",
            "min       0.000000  \n",
            "25%       0.000000  \n",
            "50%       0.000000  \n",
            "75%       1.000000  \n",
            "max       1.000000  \n",
            "\n",
            "[8 rows x 28 columns]\n"
          ]
        }
      ]
    },
    {
      "cell_type": "markdown",
      "source": [
        "What is the size of the dataset?"
      ],
      "metadata": {
        "id": "w4HCepjyWqiK"
      }
    },
    {
      "cell_type": "code",
      "source": [
        "print(f\"Dataset size: {df.shape}\")"
      ],
      "metadata": {
        "colab": {
          "base_uri": "https://localhost:8080/"
        },
        "id": "P9OB0lzxVk0M",
        "outputId": "8d6d3f28-2326-4eff-8cc4-6420cb959261"
      },
      "execution_count": 33,
      "outputs": [
        {
          "output_type": "stream",
          "name": "stdout",
          "text": [
            "Dataset size: (1309, 28)\n"
          ]
        }
      ]
    },
    {
      "cell_type": "markdown",
      "source": [
        "What are the data types of each column?"
      ],
      "metadata": {
        "id": "clYAToPnWscN"
      }
    },
    {
      "cell_type": "code",
      "source": [
        "print(df.dtypes)"
      ],
      "metadata": {
        "colab": {
          "base_uri": "https://localhost:8080/"
        },
        "id": "EUuKMpsSV-vT",
        "outputId": "d3d397f5-7238-4722-f7d6-bb23eecd4c16"
      },
      "execution_count": 34,
      "outputs": [
        {
          "output_type": "stream",
          "name": "stdout",
          "text": [
            "Passengerid      int64\n",
            "Age            float64\n",
            "Fare           float64\n",
            "Sex              int64\n",
            "sibsp            int64\n",
            "zero             int64\n",
            "zero.1           int64\n",
            "zero.2           int64\n",
            "zero.3           int64\n",
            "zero.4           int64\n",
            "zero.5           int64\n",
            "zero.6           int64\n",
            "Parch            int64\n",
            "zero.7           int64\n",
            "zero.8           int64\n",
            "zero.9           int64\n",
            "zero.10          int64\n",
            "zero.11          int64\n",
            "zero.12          int64\n",
            "zero.13          int64\n",
            "zero.14          int64\n",
            "Pclass           int64\n",
            "zero.15          int64\n",
            "zero.16          int64\n",
            "Embarked       float64\n",
            "zero.17          int64\n",
            "zero.18          int64\n",
            "2urvived         int64\n",
            "dtype: object\n"
          ]
        }
      ]
    },
    {
      "cell_type": "markdown",
      "source": [
        "Are there any missing values in the dataset? If so, which columns have missing values and how many?"
      ],
      "metadata": {
        "id": "btnDEnYhWz9-"
      }
    },
    {
      "cell_type": "code",
      "source": [
        "missing_values = df.isnull().sum()\n",
        "print(\"Missing values:\")\n",
        "print(missing_values[missing_values > 0])"
      ],
      "metadata": {
        "colab": {
          "base_uri": "https://localhost:8080/"
        },
        "id": "TEJWM1ZwWFrX",
        "outputId": "5a82fb66-97f8-4f3a-aa12-fb94e634c573"
      },
      "execution_count": 35,
      "outputs": [
        {
          "output_type": "stream",
          "name": "stdout",
          "text": [
            "Missing values:\n",
            "Embarked    2\n",
            "dtype: int64\n"
          ]
        }
      ]
    },
    {
      "cell_type": "markdown",
      "source": [
        "What are the unique values in a categorical column of your choice? How many unique values are there?"
      ],
      "metadata": {
        "id": "8o58TmAsW5UY"
      }
    },
    {
      "cell_type": "code",
      "source": [
        "unique_ages = df['Age'].unique()\n",
        "print(f\"Unique ages: {unique_ages}\")\n",
        "print(f\"Number of unique ages: {len(unique_ages)}\")"
      ],
      "metadata": {
        "colab": {
          "base_uri": "https://localhost:8080/"
        },
        "id": "Er2WABWKWbSk",
        "outputId": "4e386e2d-db7b-4e39-9c52-7cb60c194585"
      },
      "execution_count": 38,
      "outputs": [
        {
          "output_type": "stream",
          "name": "stdout",
          "text": [
            "Unique ages: [22.   38.   26.   35.   28.   54.    2.   27.   14.    4.   58.   20.\n",
            " 39.   55.   31.   34.   15.    8.   19.   40.   66.   42.   21.   18.\n",
            "  3.    7.   49.   29.   65.   28.5   5.   11.   45.   17.   32.   16.\n",
            " 25.    0.83 30.   33.   23.   24.   46.   59.   71.   37.   47.   14.5\n",
            " 70.5  32.5  12.    9.   36.5  51.   55.5  40.5  44.    1.   61.   56.\n",
            " 50.   36.   45.5  20.5  62.   41.   52.   63.   23.5   0.92 43.   60.\n",
            " 10.   64.   13.   48.    0.75 53.   57.   80.   70.   24.5   6.    0.67\n",
            " 30.5   0.42 34.5  74.   22.5  18.5  67.   76.   26.5  60.5  11.5   0.33\n",
            "  0.17 38.5 ]\n",
            "Number of unique ages: 98\n"
          ]
        }
      ]
    },
    {
      "cell_type": "markdown",
      "source": [
        " For a numerical column of your choice, calculate the mean, median, and standard deviation."
      ],
      "metadata": {
        "id": "yvRMthbaX34G"
      }
    },
    {
      "cell_type": "code",
      "source": [
        "mean= df['Fare'].mean()\n",
        "median= df['Fare'].median()\n",
        "std= df['Fare'].std()\n",
        "\n",
        "print(f\"Mean: {mean}\")\n",
        "print(f\"Median: {median}\")\n",
        "print(f\"Standard deviation: {std}\")\n"
      ],
      "metadata": {
        "colab": {
          "base_uri": "https://localhost:8080/"
        },
        "id": "I51ntN_0XBhe",
        "outputId": "149b10fb-b117-4327-e933-e63cea15ae81"
      },
      "execution_count": 40,
      "outputs": [
        {
          "output_type": "stream",
          "name": "stdout",
          "text": [
            "Mean: 33.28108563789152\n",
            "Median: 14.4542\n",
            "Standard deviation: 51.741499767526044\n"
          ]
        }
      ]
    },
    {
      "cell_type": "markdown",
      "source": [
        "Identify any potential outliers in a numerical column of your choice. Explain your approach"
      ],
      "metadata": {
        "id": "nOgzQTn-Ykf2"
      }
    },
    {
      "cell_type": "code",
      "source": [
        "import matplotlib.pyplot as plt\n",
        "import seaborn as sns\n",
        "\n",
        "plt.figure(figsize=(8, 6))\n",
        "sns.boxplot(x=df['Fare'])\n",
        "plt.title('Boxplot of Fare')\n",
        "plt.xlabel('Fare')\n",
        "plt.show()"
      ],
      "metadata": {
        "colab": {
          "base_uri": "https://localhost:8080/",
          "height": 564
        },
        "id": "ecEDZOVhZtH_",
        "outputId": "a4aed757-0b90-41ff-eef8-e92b78d2aea4"
      },
      "execution_count": 46,
      "outputs": [
        {
          "output_type": "display_data",
          "data": {
            "text/plain": [
              "<Figure size 800x600 with 1 Axes>"
            ],
            "image/png": "[encoded data removed]"
          },
          "metadata": {}
        }
      ]
    },
    {
      "cell_type": "markdown",
      "source": [
        "Find the correlation between numerical columns and discuss any interesting relationships"
      ],
      "metadata": {
        "id": "CADcTyCpa6uC"
      }
    },
    {
      "cell_type": "code",
      "source": [
        "correlation_matrix = df['Age'].corr(df['Fare'])\n",
        "print(correlation_matrix)"
      ],
      "metadata": {
        "colab": {
          "base_uri": "https://localhost:8080/"
        },
        "id": "PFT77M4uaclV",
        "outputId": "d401f3aa-36de-4be1-dd8b-e8691e21d8b3"
      },
      "execution_count": 52,
      "outputs": [
        {
          "output_type": "stream",
          "name": "stdout",
          "text": [
            "0.17818204086229256\n"
          ]
        }
      ]
    },
    {
      "cell_type": "markdown",
      "source": [
        "Group the data by a categorical column and compute the aggregate statistics (e.g., mean, sum) for a numerical column."
      ],
      "metadata": {
        "id": "uz-UZCVGbAD8"
      }
    },
    {
      "cell_type": "code",
      "source": [
        "fare_means = df.groupby('Sex')['Fare'].mean()\n",
        "print(fare_means)"
      ],
      "metadata": {
        "colab": {
          "base_uri": "https://localhost:8080/"
        },
        "id": "ckCBNpwEbF3r",
        "outputId": "b990e6ed-6b62-4ae1-9176-faa3d5b7625b"
      },
      "execution_count": 49,
      "outputs": [
        {
          "output_type": "stream",
          "name": "stdout",
          "text": [
            "Sex\n",
            "0    26.140721\n",
            "1    46.198097\n",
            "Name: Fare, dtype: float64\n"
          ]
        }
      ]
    },
    {
      "cell_type": "markdown",
      "source": [
        "Based on your analysis, provide a brief summary of any insights or patterns you discovered in the dataset."
      ],
      "metadata": {
        "id": "jBwbwDGNbHBS"
      }
    },
    {
      "cell_type": "markdown",
      "source": [
        "Data Size and Structure: The dataset consists of 1309 rows and 28 columns.\n",
        "\n",
        "Missing Values: Columns Embarked have missing values.\n",
        "\n",
        "Unique Values: The Age column has 98 unique values.\n",
        "\n",
        "Fare Distribution: The mean fare is around 33,Median is 14.4542 with a standard deviation of  51.741499767526044\n",
        "\n",
        "Outliers in Fare: The box plot shows potential outliers in the Fare column, indicating some passengers paid significantly higher fares.\n",
        "\n",
        "Correlation Insights:  A correlation coefficient of 0.1781 between two variables suggests a weak positive linear relationship.\n",
        "\n",
        "Sex-Based Fare Differences: Female passengers has to pay more than male passengers."
      ],
      "metadata": {
        "id": "FvwPbKqRdYPg"
      }
    },
    {
      "cell_type": "code",
      "source": [],
      "metadata": {
        "id": "A2hRDFQCbLg4"
      },
      "execution_count": null,
      "outputs": []
    }
  ]
}